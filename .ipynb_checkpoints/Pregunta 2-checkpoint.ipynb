{
 "cells": [
  {
   "cell_type": "code",
   "execution_count": 14,
   "id": "a53e6c70",
   "metadata": {},
   "outputs": [
    {
     "name": "stdout",
     "output_type": "stream",
     "text": [
      "['/guide/browsers/#enablejs', '/', 'https://account.ncbi.nlm.nih.gov', '/myncbi/', '/myncbi/collections/bibliography/', '/account/settings/', '/account/signout/', 'https://www.ncbi.nlm.nih.gov/guide/browsers/#ncbi_accesskeys', 'https://www.ncbi.nlm.nih.gov', '/myncbi/', '#maincontent', '#', '/protein', '/sites/myncbi/searches/save?db=protein&qk=1', '/protein/advanced', '/books/NBK44864/', '#', '#', '#', '#', '#', '#sp_more', '#', '#', '#', '#srcdb_more', '#', '#facet_range_divseqlen', '#', '#facet_range_divmolwt', '#', '#facet_date_range_divpdat', '#', '#facet_date_range_divmdat', '#', '#more_filter_groups', '#', '#', '#', '#', '/ipg?term=caseine', '/ipg/docs/about', '/protein/CAD26108.1', '/bioproject?LinkName=protein_bioproject&from_uid=19069723', '/nuccore?LinkName=protein_nuccore&from_uid=19069723', '/pubmed?LinkName=protein_pubmed&from_uid=19069723', '/taxonomy?LinkName=protein_taxonomy&from_uid=19069723', '/protein/CAD26108.1?report=genpept', '/ipg/CAD26108.1', '/protein/CAD26108.1?report=fasta', '/protein/CAD26108.1?report=graph', '/protein/XP_003074047.1', '/bioproject?LinkName=protein_bioproject&from_uid=303391635', '/nuccore?LinkName=protein_nuccore&from_uid=303391635', '/pubmed?LinkName=protein_pubmed&from_uid=303391635', '/taxonomy?LinkName=protein_taxonomy&from_uid=303391635', '/protein/XP_003074047.1?report=genpept', '/ipg/XP_003074047.1', '/protein/XP_003074047.1?report=fasta', '/protein/XP_003074047.1?report=graph', '/protein/XP_009265665.1', '/bioproject?LinkName=protein_bioproject&from_uid=685882473', '/nuccore?LinkName=protein_nuccore&from_uid=685882473', '/pubmed?LinkName=protein_pubmed&from_uid=685882473', '/taxonomy?LinkName=protein_taxonomy&from_uid=685882473', '/protein/XP_009265665.1?report=genpept', '/ipg/XP_009265665.1', '/protein/XP_009265665.1?report=fasta', '/protein/XP_009265665.1?report=graph', '/protein/AFN84168.1', '/bioproject?LinkName=protein_bioproject&from_uid=396082559', '/nuccore?LinkName=protein_nuccore&from_uid=396082559', '/pubmed?LinkName=protein_pubmed&from_uid=396082559', '/taxonomy?LinkName=protein_taxonomy&from_uid=396082559', '/protein/AFN84168.1?report=genpept', '/ipg/AFN84168.1', '/protein/AFN84168.1?report=fasta', '/protein/AFN84168.1?report=graph', '/protein/ADM12687.1', '/bioproject?LinkName=protein_bioproject&from_uid=303303196', '/nuccore?LinkName=protein_nuccore&from_uid=303303196', '/pubmed?LinkName=protein_pubmed&from_uid=303303196', '/taxonomy?LinkName=protein_taxonomy&from_uid=303303196', '/protein/ADM12687.1?report=genpept', '/ipg/ADM12687.1', '/protein/ADM12687.1?report=fasta', '/protein/ADM12687.1?report=graph', '/protein/CDW72457.1', '/bioproject?LinkName=protein_bioproject&from_uid=678343414', '/nuccore?LinkName=protein_nuccore&from_uid=678343414', '/taxonomy?LinkName=protein_taxonomy&from_uid=678343414', '/protein/CDW72457.1?report=genpept', '/ipg/CDW72457.1', '/protein/CDW72457.1?report=fasta', '/protein/CDW72457.1?report=graph', '/protein/AGE94921.1', '/nuccore?LinkName=protein_nuccore&from_uid=449328644', '/pubmed?LinkName=protein_pubmed&from_uid=449328644', '/taxonomy?LinkName=protein_taxonomy&from_uid=449328644', '/protein/AGE94921.1?report=genpept', '/ipg/AGE94921.1', '/protein/AGE94921.1?report=fasta', '/protein/AGE94921.1?report=graph', '/protein/CAB05446.1', '/nuccore?LinkName=protein_nuccore&from_uid=1694914', '/pubmed?LinkName=protein_pubmed&from_uid=1694914', '/taxonomy?LinkName=protein_taxonomy&from_uid=1694914', '/protein/CAB05446.1?report=genpept', '/ipg/CAB05446.1', '/protein/CAB05446.1?report=fasta', '/protein/CAB05446.1?report=graph', '/protein/CAA70217.1', '/nuccore?LinkName=protein_nuccore&from_uid=1654007', '/taxonomy?LinkName=protein_taxonomy&from_uid=1654007', '/protein/CAA70217.1?report=genpept', '/ipg/CAA70217.1', '/protein/CAA70217.1?report=fasta', '/protein/CAA70217.1?report=graph', '/protein/CAA56127.1', '/nuccore?LinkName=protein_nuccore&from_uid=499076', '/taxonomy?LinkName=protein_taxonomy&from_uid=499076', '/protein/CAA56127.1?report=genpept', '/ipg/CAA56127.1', '/protein/CAA56127.1?report=fasta', '/protein/CAA56127.1?report=graph', '/protein/P02662.2', '/pubmed?LinkName=protein_pubmed&from_uid=115646', '/taxonomy?LinkName=protein_taxonomy&from_uid=115646', '/protein/P02662.2?report=genpept', '/ipg/P02662.2', '/protein/P02662.2?report=fasta', '/protein/P02662.2?report=graph', '/protein/YP_009640103.1', '/bioproject?LinkName=protein_bioproject&from_uid=1678209804', '/nuccore?LinkName=protein_nuccore&from_uid=1678209804', '/pubmed?LinkName=protein_pubmed&from_uid=1678209804', '/taxonomy?LinkName=protein_taxonomy&from_uid=1678209804', '/protein/YP_009640103.1?report=genpept', '/ipg/YP_009640103.1', '/protein/YP_009640103.1?report=fasta', '/protein/YP_009640103.1?report=graph', '/protein/NP_586504.1', '/bioproject?LinkName=protein_bioproject&from_uid=19074998', '/nuccore?LinkName=protein_nuccore&from_uid=19074998', '/pubmed?LinkName=protein_pubmed&from_uid=19074998', '/taxonomy?LinkName=protein_taxonomy&from_uid=19074998', '/protein/NP_586504.1?report=genpept', '/ipg/NP_586504.1', '/protein/NP_586504.1?report=fasta', '/protein/NP_586504.1?report=graph', '/protein/XP_456120.1', '/bioproject?LinkName=protein_bioproject&from_uid=50312177', '/nuccore?LinkName=protein_nuccore&from_uid=50312177', '/pubmed?LinkName=protein_pubmed&from_uid=50312177', '/taxonomy?LinkName=protein_taxonomy&from_uid=50312177', '/protein/XP_456120.1?report=genpept', '/ipg/XP_456120.1', '/protein/XP_456120.1?report=fasta', '/protein/XP_456120.1?report=graph', '/protein/XP_502914.1', '/bioproject?LinkName=protein_bioproject&from_uid=50550883', '/nuccore?LinkName=protein_nuccore&from_uid=50550883', '/pubmed?LinkName=protein_pubmed&from_uid=50550883', '/taxonomy?LinkName=protein_taxonomy&from_uid=50550883', '/protein/XP_502914.1?report=genpept', '/ipg/XP_502914.1', '/protein/XP_502914.1?report=fasta', '/protein/XP_502914.1?report=graph', '/protein/AOW04165.1', '/bioproject?LinkName=protein_bioproject&from_uid=1078657052', '/nuccore?LinkName=protein_nuccore&from_uid=1078657052', '/pubmed?LinkName=protein_pubmed&from_uid=1078657052', '/taxonomy?LinkName=protein_taxonomy&from_uid=1078657052', '/protein/AOW04165.1?report=genpept', '/ipg/AOW04165.1', '/protein/AOW04165.1?report=fasta', '/protein/AOW04165.1?report=graph', '/protein/CAG81105.1', '/bioproject?LinkName=protein_bioproject&from_uid=49648782', '/nuccore?LinkName=protein_nuccore&from_uid=49648782', '/pubmed?LinkName=protein_pubmed&from_uid=49648782', '/taxonomy?LinkName=protein_taxonomy&from_uid=49648782', '/protein/CAG81105.1?report=genpept', '/ipg/CAG81105.1', '/protein/CAG81105.1?report=fasta', '/protein/CAG81105.1?report=graph', '/protein/CAG98828.1', '/bioproject?LinkName=protein_bioproject&from_uid=49645256', '/nuccore?LinkName=protein_nuccore&from_uid=49645256', '/pubmed?LinkName=protein_pubmed&from_uid=49645256', '/taxonomy?LinkName=protein_taxonomy&from_uid=49645256', '/protein/CAG98828.1?report=genpept', '/ipg/CAG98828.1', '/protein/CAG98828.1?report=fasta', '/protein/CAG98828.1?report=graph', '/protein/CCA61472.1', '/nuccore?LinkName=protein_nuccore&from_uid=327198771', '/pubmed?LinkName=protein_pubmed&from_uid=327198771', '/taxonomy?LinkName=protein_taxonomy&from_uid=327198771', '/protein/CCA61472.1?report=genpept', '/ipg/CCA61472.1', '/protein/CCA61472.1?report=fasta', '/protein/CCA61472.1?report=graph', '#', '#', '#', '#', '/sites/myncbi/protein/filters', '/sites/myncbi/protein/filters', 'https://twitter.com/ncbi', 'https://www.facebook.com/ncbi.nlm', 'https://www.linkedin.com/company/ncbinlm', 'https://github.com/ncbi', 'https://ncbiinsights.ncbi.nlm.nih.gov/', 'https://www.nlm.nih.gov/socialmedia/index.html', 'https://twitter.com/NLM_NIH', 'https://www.facebook.com/nationallibraryofmedicine', 'https://www.youtube.com/user/NLMNIH', 'https://www.google.com/maps/place/8600+Rockville+Pike,+Bethesda,+MD+20894/@38.9959508,-77.101021,17z/data=!3m1!4b1!4m5!3m4!1s0x89b7c95e25765ddb:0x19156f88b27635b8!8m2!3d38.9959508!4d-77.0988323', 'https://www.nlm.nih.gov/web_policies.html', 'https://www.nih.gov/institutes-nih/nih-office-director/office-communications-public-liaison/freedom-information-act-office', 'https://www.hhs.gov/vulnerability-disclosure-policy/index.html', 'https://support.nlm.nih.gov/', 'https://www.nlm.nih.gov/accessibility.html', 'https://www.nlm.nih.gov/careers/careers.html', '//www.nlm.nih.gov/', 'https://www.nih.gov/', 'https://www.hhs.gov/', 'https://www.usa.gov/']\n"
     ]
    }
   ],
   "source": [
    "import urllib.request\n",
    "from bs4 import BeautifulSoup\n",
    "import pandas as pd\n",
    "\n",
    "\n",
    "links = []\n",
    "\n",
    "link = 'https://www.ncbi.nlm.nih.gov/protein/?term=caseine'\n",
    "pagina = urllib.request.urlopen(link).read()\n",
    "soup = BeautifulSoup(pagina,'html.parser')\n",
    "a_tags = soup.find_all('div', class_=\"rprt\")\n",
    "a_tags = soup.find_all('p', class_='title')\n",
    "a_tags = soup.find_all('a')\n",
    "for a in a_tags:\n",
    "    links.append(a['href'])\n",
    "print(links)\n",
    "\n"
   ]
  },
  {
   "cell_type": "code",
   "execution_count": 4,
   "id": "46336f6c",
   "metadata": {},
   "outputs": [],
   "source": [
    "import urllib.request\n",
    "from bs4 import BeautifulSoup\n",
    "import pandas as pd"
   ]
  },
  {
   "cell_type": "code",
   "execution_count": null,
   "id": "992472a1",
   "metadata": {},
   "outputs": [],
   "source": []
  }
 ],
 "metadata": {
  "kernelspec": {
   "display_name": "Python 3 (ipykernel)",
   "language": "python",
   "name": "python3"
  },
  "language_info": {
   "codemirror_mode": {
    "name": "ipython",
    "version": 3
   },
   "file_extension": ".py",
   "mimetype": "text/x-python",
   "name": "python",
   "nbconvert_exporter": "python",
   "pygments_lexer": "ipython3",
   "version": "3.9.12"
  }
 },
 "nbformat": 4,
 "nbformat_minor": 5
}
