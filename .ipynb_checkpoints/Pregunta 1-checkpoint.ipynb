{
 "cells": [
  {
   "cell_type": "code",
   "execution_count": 17,
   "id": "f88bf9f2",
   "metadata": {},
   "outputs": [
    {
     "data": {
      "text/html": [
       "<div><style>\n",
       ".dataframe > thead > tr > th,\n",
       ".dataframe > tbody > tr > td {\n",
       "  text-align: right;\n",
       "}\n",
       "</style>\n",
       "<small>shape: (607, 12)</small><table border=\"1\" class=\"dataframe\"><thead><tr><th></th><th>work_year</th><th>experience_level</th><th>employment_type</th><th>job_title</th><th>salary</th><th>salary_currency</th><th>salary_in_usd</th><th>employee_residence</th><th>remote_ratio</th><th>company_location</th><th>company_size</th></tr><tr><td>i64</td><td>i64</td><td>str</td><td>str</td><td>str</td><td>i64</td><td>str</td><td>i64</td><td>str</td><td>i64</td><td>str</td><td>str</td></tr></thead><tbody><tr><td>0</td><td>2020</td><td>&quot;MI&quot;</td><td>&quot;FT&quot;</td><td>&quot;Data Scientist…</td><td>70000</td><td>&quot;EUR&quot;</td><td>79833</td><td>&quot;DE&quot;</td><td>0</td><td>&quot;DE&quot;</td><td>&quot;L&quot;</td></tr><tr><td>1</td><td>2020</td><td>&quot;SE&quot;</td><td>&quot;FT&quot;</td><td>&quot;Machine Learni…</td><td>260000</td><td>&quot;USD&quot;</td><td>260000</td><td>&quot;JP&quot;</td><td>0</td><td>&quot;JP&quot;</td><td>&quot;S&quot;</td></tr><tr><td>2</td><td>2020</td><td>&quot;SE&quot;</td><td>&quot;FT&quot;</td><td>&quot;Big Data Engin…</td><td>85000</td><td>&quot;GBP&quot;</td><td>109024</td><td>&quot;GB&quot;</td><td>50</td><td>&quot;GB&quot;</td><td>&quot;M&quot;</td></tr><tr><td>3</td><td>2020</td><td>&quot;MI&quot;</td><td>&quot;FT&quot;</td><td>&quot;Product Data A…</td><td>20000</td><td>&quot;USD&quot;</td><td>20000</td><td>&quot;HN&quot;</td><td>0</td><td>&quot;HN&quot;</td><td>&quot;S&quot;</td></tr><tr><td>4</td><td>2020</td><td>&quot;SE&quot;</td><td>&quot;FT&quot;</td><td>&quot;Machine Learni…</td><td>150000</td><td>&quot;USD&quot;</td><td>150000</td><td>&quot;US&quot;</td><td>50</td><td>&quot;US&quot;</td><td>&quot;L&quot;</td></tr><tr><td>5</td><td>2020</td><td>&quot;EN&quot;</td><td>&quot;FT&quot;</td><td>&quot;Data Analyst&quot;</td><td>72000</td><td>&quot;USD&quot;</td><td>72000</td><td>&quot;US&quot;</td><td>100</td><td>&quot;US&quot;</td><td>&quot;L&quot;</td></tr><tr><td>6</td><td>2020</td><td>&quot;SE&quot;</td><td>&quot;FT&quot;</td><td>&quot;Lead Data Scie…</td><td>190000</td><td>&quot;USD&quot;</td><td>190000</td><td>&quot;US&quot;</td><td>100</td><td>&quot;US&quot;</td><td>&quot;S&quot;</td></tr><tr><td>7</td><td>2020</td><td>&quot;MI&quot;</td><td>&quot;FT&quot;</td><td>&quot;Data Scientist…</td><td>11000000</td><td>&quot;HUF&quot;</td><td>35735</td><td>&quot;HU&quot;</td><td>50</td><td>&quot;HU&quot;</td><td>&quot;L&quot;</td></tr><tr><td>8</td><td>2020</td><td>&quot;MI&quot;</td><td>&quot;FT&quot;</td><td>&quot;Business Data …</td><td>135000</td><td>&quot;USD&quot;</td><td>135000</td><td>&quot;US&quot;</td><td>100</td><td>&quot;US&quot;</td><td>&quot;L&quot;</td></tr><tr><td>9</td><td>2020</td><td>&quot;SE&quot;</td><td>&quot;FT&quot;</td><td>&quot;Lead Data Engi…</td><td>125000</td><td>&quot;USD&quot;</td><td>125000</td><td>&quot;NZ&quot;</td><td>50</td><td>&quot;NZ&quot;</td><td>&quot;S&quot;</td></tr><tr><td>10</td><td>2020</td><td>&quot;EN&quot;</td><td>&quot;FT&quot;</td><td>&quot;Data Scientist…</td><td>45000</td><td>&quot;EUR&quot;</td><td>51321</td><td>&quot;FR&quot;</td><td>0</td><td>&quot;FR&quot;</td><td>&quot;S&quot;</td></tr><tr><td>11</td><td>2020</td><td>&quot;MI&quot;</td><td>&quot;FT&quot;</td><td>&quot;Data Scientist…</td><td>3000000</td><td>&quot;INR&quot;</td><td>40481</td><td>&quot;IN&quot;</td><td>0</td><td>&quot;IN&quot;</td><td>&quot;L&quot;</td></tr><tr><td>&hellip;</td><td>&hellip;</td><td>&hellip;</td><td>&hellip;</td><td>&hellip;</td><td>&hellip;</td><td>&hellip;</td><td>&hellip;</td><td>&hellip;</td><td>&hellip;</td><td>&hellip;</td><td>&hellip;</td></tr><tr><td>595</td><td>2022</td><td>&quot;SE&quot;</td><td>&quot;FT&quot;</td><td>&quot;Data Analytics…</td><td>109280</td><td>&quot;USD&quot;</td><td>109280</td><td>&quot;US&quot;</td><td>100</td><td>&quot;US&quot;</td><td>&quot;M&quot;</td></tr><tr><td>596</td><td>2022</td><td>&quot;SE&quot;</td><td>&quot;FT&quot;</td><td>&quot;Data Scientist…</td><td>210000</td><td>&quot;USD&quot;</td><td>210000</td><td>&quot;US&quot;</td><td>100</td><td>&quot;US&quot;</td><td>&quot;M&quot;</td></tr><tr><td>597</td><td>2022</td><td>&quot;SE&quot;</td><td>&quot;FT&quot;</td><td>&quot;Data Analyst&quot;</td><td>170000</td><td>&quot;USD&quot;</td><td>170000</td><td>&quot;US&quot;</td><td>100</td><td>&quot;US&quot;</td><td>&quot;M&quot;</td></tr><tr><td>598</td><td>2022</td><td>&quot;MI&quot;</td><td>&quot;FT&quot;</td><td>&quot;Data Scientist…</td><td>160000</td><td>&quot;USD&quot;</td><td>160000</td><td>&quot;US&quot;</td><td>100</td><td>&quot;US&quot;</td><td>&quot;M&quot;</td></tr><tr><td>599</td><td>2022</td><td>&quot;MI&quot;</td><td>&quot;FT&quot;</td><td>&quot;Data Scientist…</td><td>130000</td><td>&quot;USD&quot;</td><td>130000</td><td>&quot;US&quot;</td><td>100</td><td>&quot;US&quot;</td><td>&quot;M&quot;</td></tr><tr><td>600</td><td>2022</td><td>&quot;EN&quot;</td><td>&quot;FT&quot;</td><td>&quot;Data Analyst&quot;</td><td>67000</td><td>&quot;USD&quot;</td><td>67000</td><td>&quot;CA&quot;</td><td>0</td><td>&quot;CA&quot;</td><td>&quot;M&quot;</td></tr><tr><td>601</td><td>2022</td><td>&quot;EN&quot;</td><td>&quot;FT&quot;</td><td>&quot;Data Analyst&quot;</td><td>52000</td><td>&quot;USD&quot;</td><td>52000</td><td>&quot;CA&quot;</td><td>0</td><td>&quot;CA&quot;</td><td>&quot;M&quot;</td></tr><tr><td>602</td><td>2022</td><td>&quot;SE&quot;</td><td>&quot;FT&quot;</td><td>&quot;Data Engineer&quot;</td><td>154000</td><td>&quot;USD&quot;</td><td>154000</td><td>&quot;US&quot;</td><td>100</td><td>&quot;US&quot;</td><td>&quot;M&quot;</td></tr><tr><td>603</td><td>2022</td><td>&quot;SE&quot;</td><td>&quot;FT&quot;</td><td>&quot;Data Engineer&quot;</td><td>126000</td><td>&quot;USD&quot;</td><td>126000</td><td>&quot;US&quot;</td><td>100</td><td>&quot;US&quot;</td><td>&quot;M&quot;</td></tr><tr><td>604</td><td>2022</td><td>&quot;SE&quot;</td><td>&quot;FT&quot;</td><td>&quot;Data Analyst&quot;</td><td>129000</td><td>&quot;USD&quot;</td><td>129000</td><td>&quot;US&quot;</td><td>0</td><td>&quot;US&quot;</td><td>&quot;M&quot;</td></tr><tr><td>605</td><td>2022</td><td>&quot;SE&quot;</td><td>&quot;FT&quot;</td><td>&quot;Data Analyst&quot;</td><td>150000</td><td>&quot;USD&quot;</td><td>150000</td><td>&quot;US&quot;</td><td>100</td><td>&quot;US&quot;</td><td>&quot;M&quot;</td></tr><tr><td>606</td><td>2022</td><td>&quot;MI&quot;</td><td>&quot;FT&quot;</td><td>&quot;AI Scientist&quot;</td><td>200000</td><td>&quot;USD&quot;</td><td>200000</td><td>&quot;IN&quot;</td><td>100</td><td>&quot;US&quot;</td><td>&quot;L&quot;</td></tr></tbody></table></div>"
      ],
      "text/plain": [
       "shape: (607, 12)\n",
       "┌─────┬─────────┬────────────┬────────────┬───┬────────────┬────────────┬────────────┬────────────┐\n",
       "│     ┆ work_ye ┆ experience ┆ employment ┆ … ┆ employee_r ┆ remote_rat ┆ company_lo ┆ company_si │\n",
       "│ --- ┆ ar      ┆ _level     ┆ _type      ┆   ┆ esidence   ┆ io         ┆ cation     ┆ ze         │\n",
       "│ i64 ┆ ---     ┆ ---        ┆ ---        ┆   ┆ ---        ┆ ---        ┆ ---        ┆ ---        │\n",
       "│     ┆ i64     ┆ str        ┆ str        ┆   ┆ str        ┆ i64        ┆ str        ┆ str        │\n",
       "╞═════╪═════════╪════════════╪════════════╪═══╪════════════╪════════════╪════════════╪════════════╡\n",
       "│ 0   ┆ 2020    ┆ MI         ┆ FT         ┆ … ┆ DE         ┆ 0          ┆ DE         ┆ L          │\n",
       "│ 1   ┆ 2020    ┆ SE         ┆ FT         ┆ … ┆ JP         ┆ 0          ┆ JP         ┆ S          │\n",
       "│ 2   ┆ 2020    ┆ SE         ┆ FT         ┆ … ┆ GB         ┆ 50         ┆ GB         ┆ M          │\n",
       "│ 3   ┆ 2020    ┆ MI         ┆ FT         ┆ … ┆ HN         ┆ 0          ┆ HN         ┆ S          │\n",
       "│ …   ┆ …       ┆ …          ┆ …          ┆ … ┆ …          ┆ …          ┆ …          ┆ …          │\n",
       "│ 603 ┆ 2022    ┆ SE         ┆ FT         ┆ … ┆ US         ┆ 100        ┆ US         ┆ M          │\n",
       "│ 604 ┆ 2022    ┆ SE         ┆ FT         ┆ … ┆ US         ┆ 0          ┆ US         ┆ M          │\n",
       "│ 605 ┆ 2022    ┆ SE         ┆ FT         ┆ … ┆ US         ┆ 100        ┆ US         ┆ M          │\n",
       "│ 606 ┆ 2022    ┆ MI         ┆ FT         ┆ … ┆ IN         ┆ 100        ┆ US         ┆ L          │\n",
       "└─────┴─────────┴────────────┴────────────┴───┴────────────┴────────────┴────────────┴────────────┘"
      ]
     },
     "execution_count": 17,
     "metadata": {},
     "output_type": "execute_result"
    }
   ],
   "source": [
    "import polars as pl\n",
    "import pandas as pd\n",
    "\n",
    "archivo = pl.read_csv('ds_salaries.csv')\n",
    "archivo\n",
    "\n",
    "\n",
    "\n",
    "\n",
    "\n",
    "\n",
    "\n",
    "\n",
    "\n"
   ]
  },
  {
   "cell_type": "code",
   "execution_count": 59,
   "id": "d27815fb",
   "metadata": {},
   "outputs": [
    {
     "ename": "TypeError",
     "evalue": "mean() takes 1 positional argument but 2 were given",
     "output_type": "error",
     "traceback": [
      "\u001b[1;31m---------------------------------------------------------------------------\u001b[0m",
      "\u001b[1;31mTypeError\u001b[0m                                 Traceback (most recent call last)",
      "Input \u001b[1;32mIn [59]\u001b[0m, in \u001b[0;36m<cell line: 2>\u001b[1;34m()\u001b[0m\n\u001b[0;32m      1\u001b[0m \u001b[38;5;66;03m### parte a: \u001b[39;00m\n\u001b[1;32m----> 2\u001b[0m \u001b[43marchivo\u001b[49m\u001b[38;5;241;43m.\u001b[39;49m\u001b[43mgroupby\u001b[49m\u001b[43m(\u001b[49m\u001b[38;5;124;43m'\u001b[39;49m\u001b[38;5;124;43mexperience_level\u001b[39;49m\u001b[38;5;124;43m'\u001b[39;49m\u001b[43m)\u001b[49m\u001b[38;5;241;43m.\u001b[39;49m\u001b[43mmean\u001b[49m\u001b[43m(\u001b[49m\u001b[38;5;124;43m'\u001b[39;49m\u001b[38;5;124;43msalary_in_usd\u001b[39;49m\u001b[38;5;124;43m'\u001b[39;49m\u001b[43m)\u001b[49m\n",
      "\u001b[1;31mTypeError\u001b[0m: mean() takes 1 positional argument but 2 were given"
     ]
    }
   ],
   "source": [
    "### parte a: \n",
    "archivo.groupby('experience_level').mean('salary_in_usd')\n",
    "\n"
   ]
  },
  {
   "cell_type": "code",
   "execution_count": 16,
   "id": "42d23ff5",
   "metadata": {},
   "outputs": [
    {
     "data": {
      "text/html": [
       "<div><style>\n",
       ".dataframe > thead > tr > th,\n",
       ".dataframe > tbody > tr > td {\n",
       "  text-align: right;\n",
       "}\n",
       "</style>\n",
       "<small>shape: (1, 2)</small><table border=\"1\" class=\"dataframe\"><thead><tr><th>employee_residence</th><th>counts</th></tr><tr><td>str</td><td>u32</td></tr></thead><tbody><tr><td>&quot;US&quot;</td><td>332</td></tr></tbody></table></div>"
      ],
      "text/plain": [
       "shape: (1, 2)\n",
       "┌────────────────────┬────────┐\n",
       "│ employee_residence ┆ counts │\n",
       "│ ---                ┆ ---    │\n",
       "│ str                ┆ u32    │\n",
       "╞════════════════════╪════════╡\n",
       "│ US                 ┆ 332    │\n",
       "└────────────────────┴────────┘"
      ]
     },
     "execution_count": 16,
     "metadata": {},
     "output_type": "execute_result"
    }
   ],
   "source": [
    "### parte b:\n",
    "\n",
    "contando = archivo[\"employee_residence\"].value_counts()\n",
    "pais = contando.filter(pl.col(\"counts\")== contando['counts'].max())\n",
    "pais\n",
    "\n",
    "##El pais mas frecuente es US (estados unidos)\n"
   ]
  },
  {
   "cell_type": "code",
   "execution_count": 42,
   "id": "f5786f7a",
   "metadata": {},
   "outputs": [
    {
     "name": "stdout",
     "output_type": "stream",
     "text": [
      "el porcentaje es 62.7677100494234 %\n"
     ]
    }
   ],
   "source": [
    "### parte c:\n",
    "\n",
    "emplrem = archivo[\"remote_ratio\"].value_counts()\n",
    "emplno = emplrem.filter(pl.col(\"remote_ratio\")!=100)\n",
    "emplrem = emplrem.filter(pl.col(\"remote_ratio\") == 100)\n",
    "\n",
    "\n",
    "\n",
    "porcentaje = emplrem['counts'][0] / (emplno['counts'][0] + emplno['counts'][1] + emplrem['counts'][0] )\n",
    "porcentaje = porcentaje*100\n",
    "\n",
    "print(\"el porcentaje es\", porcentaje, \"%\")\n",
    "\n",
    "\n"
   ]
  },
  {
   "cell_type": "code",
   "execution_count": null,
   "id": "a753a5c4",
   "metadata": {},
   "outputs": [],
   "source": []
  }
 ],
 "metadata": {
  "kernelspec": {
   "display_name": "Python 3 (ipykernel)",
   "language": "python",
   "name": "python3"
  },
  "language_info": {
   "codemirror_mode": {
    "name": "ipython",
    "version": 3
   },
   "file_extension": ".py",
   "mimetype": "text/x-python",
   "name": "python",
   "nbconvert_exporter": "python",
   "pygments_lexer": "ipython3",
   "version": "3.9.12"
  }
 },
 "nbformat": 4,
 "nbformat_minor": 5
}
