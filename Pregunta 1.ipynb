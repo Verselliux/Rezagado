{
 "cells": [
  {
   "cell_type": "code",
   "execution_count": 7,
   "id": "901ce18a",
   "metadata": {},
   "outputs": [
    {
     "data": {
      "text/html": [
       "<div><style>\n",
       ".dataframe > thead > tr > th,\n",
       ".dataframe > tbody > tr > td {\n",
       "  text-align: right;\n",
       "}\n",
       "</style>\n",
       "<small>shape: (607, 12)</small><table border=\"1\" class=\"dataframe\"><thead><tr><th></th><th>work_year</th><th>experience_level</th><th>employment_type</th><th>job_title</th><th>salary</th><th>salary_currency</th><th>salary_in_usd</th><th>employee_residence</th><th>remote_ratio</th><th>company_location</th><th>company_size</th></tr><tr><td>i64</td><td>i64</td><td>str</td><td>str</td><td>str</td><td>i64</td><td>str</td><td>i64</td><td>str</td><td>i64</td><td>str</td><td>str</td></tr></thead><tbody><tr><td>0</td><td>2020</td><td>&quot;MI&quot;</td><td>&quot;FT&quot;</td><td>&quot;Data Scientist…</td><td>70000</td><td>&quot;EUR&quot;</td><td>79833</td><td>&quot;DE&quot;</td><td>0</td><td>&quot;DE&quot;</td><td>&quot;L&quot;</td></tr><tr><td>1</td><td>2020</td><td>&quot;SE&quot;</td><td>&quot;FT&quot;</td><td>&quot;Machine Learni…</td><td>260000</td><td>&quot;USD&quot;</td><td>260000</td><td>&quot;JP&quot;</td><td>0</td><td>&quot;JP&quot;</td><td>&quot;S&quot;</td></tr><tr><td>2</td><td>2020</td><td>&quot;SE&quot;</td><td>&quot;FT&quot;</td><td>&quot;Big Data Engin…</td><td>85000</td><td>&quot;GBP&quot;</td><td>109024</td><td>&quot;GB&quot;</td><td>50</td><td>&quot;GB&quot;</td><td>&quot;M&quot;</td></tr><tr><td>3</td><td>2020</td><td>&quot;MI&quot;</td><td>&quot;FT&quot;</td><td>&quot;Product Data A…</td><td>20000</td><td>&quot;USD&quot;</td><td>20000</td><td>&quot;HN&quot;</td><td>0</td><td>&quot;HN&quot;</td><td>&quot;S&quot;</td></tr><tr><td>4</td><td>2020</td><td>&quot;SE&quot;</td><td>&quot;FT&quot;</td><td>&quot;Machine Learni…</td><td>150000</td><td>&quot;USD&quot;</td><td>150000</td><td>&quot;US&quot;</td><td>50</td><td>&quot;US&quot;</td><td>&quot;L&quot;</td></tr><tr><td>5</td><td>2020</td><td>&quot;EN&quot;</td><td>&quot;FT&quot;</td><td>&quot;Data Analyst&quot;</td><td>72000</td><td>&quot;USD&quot;</td><td>72000</td><td>&quot;US&quot;</td><td>100</td><td>&quot;US&quot;</td><td>&quot;L&quot;</td></tr><tr><td>6</td><td>2020</td><td>&quot;SE&quot;</td><td>&quot;FT&quot;</td><td>&quot;Lead Data Scie…</td><td>190000</td><td>&quot;USD&quot;</td><td>190000</td><td>&quot;US&quot;</td><td>100</td><td>&quot;US&quot;</td><td>&quot;S&quot;</td></tr><tr><td>7</td><td>2020</td><td>&quot;MI&quot;</td><td>&quot;FT&quot;</td><td>&quot;Data Scientist…</td><td>11000000</td><td>&quot;HUF&quot;</td><td>35735</td><td>&quot;HU&quot;</td><td>50</td><td>&quot;HU&quot;</td><td>&quot;L&quot;</td></tr><tr><td>8</td><td>2020</td><td>&quot;MI&quot;</td><td>&quot;FT&quot;</td><td>&quot;Business Data …</td><td>135000</td><td>&quot;USD&quot;</td><td>135000</td><td>&quot;US&quot;</td><td>100</td><td>&quot;US&quot;</td><td>&quot;L&quot;</td></tr><tr><td>9</td><td>2020</td><td>&quot;SE&quot;</td><td>&quot;FT&quot;</td><td>&quot;Lead Data Engi…</td><td>125000</td><td>&quot;USD&quot;</td><td>125000</td><td>&quot;NZ&quot;</td><td>50</td><td>&quot;NZ&quot;</td><td>&quot;S&quot;</td></tr><tr><td>10</td><td>2020</td><td>&quot;EN&quot;</td><td>&quot;FT&quot;</td><td>&quot;Data Scientist…</td><td>45000</td><td>&quot;EUR&quot;</td><td>51321</td><td>&quot;FR&quot;</td><td>0</td><td>&quot;FR&quot;</td><td>&quot;S&quot;</td></tr><tr><td>11</td><td>2020</td><td>&quot;MI&quot;</td><td>&quot;FT&quot;</td><td>&quot;Data Scientist…</td><td>3000000</td><td>&quot;INR&quot;</td><td>40481</td><td>&quot;IN&quot;</td><td>0</td><td>&quot;IN&quot;</td><td>&quot;L&quot;</td></tr><tr><td>&hellip;</td><td>&hellip;</td><td>&hellip;</td><td>&hellip;</td><td>&hellip;</td><td>&hellip;</td><td>&hellip;</td><td>&hellip;</td><td>&hellip;</td><td>&hellip;</td><td>&hellip;</td><td>&hellip;</td></tr><tr><td>595</td><td>2022</td><td>&quot;SE&quot;</td><td>&quot;FT&quot;</td><td>&quot;Data Analytics…</td><td>109280</td><td>&quot;USD&quot;</td><td>109280</td><td>&quot;US&quot;</td><td>100</td><td>&quot;US&quot;</td><td>&quot;M&quot;</td></tr><tr><td>596</td><td>2022</td><td>&quot;SE&quot;</td><td>&quot;FT&quot;</td><td>&quot;Data Scientist…</td><td>210000</td><td>&quot;USD&quot;</td><td>210000</td><td>&quot;US&quot;</td><td>100</td><td>&quot;US&quot;</td><td>&quot;M&quot;</td></tr><tr><td>597</td><td>2022</td><td>&quot;SE&quot;</td><td>&quot;FT&quot;</td><td>&quot;Data Analyst&quot;</td><td>170000</td><td>&quot;USD&quot;</td><td>170000</td><td>&quot;US&quot;</td><td>100</td><td>&quot;US&quot;</td><td>&quot;M&quot;</td></tr><tr><td>598</td><td>2022</td><td>&quot;MI&quot;</td><td>&quot;FT&quot;</td><td>&quot;Data Scientist…</td><td>160000</td><td>&quot;USD&quot;</td><td>160000</td><td>&quot;US&quot;</td><td>100</td><td>&quot;US&quot;</td><td>&quot;M&quot;</td></tr><tr><td>599</td><td>2022</td><td>&quot;MI&quot;</td><td>&quot;FT&quot;</td><td>&quot;Data Scientist…</td><td>130000</td><td>&quot;USD&quot;</td><td>130000</td><td>&quot;US&quot;</td><td>100</td><td>&quot;US&quot;</td><td>&quot;M&quot;</td></tr><tr><td>600</td><td>2022</td><td>&quot;EN&quot;</td><td>&quot;FT&quot;</td><td>&quot;Data Analyst&quot;</td><td>67000</td><td>&quot;USD&quot;</td><td>67000</td><td>&quot;CA&quot;</td><td>0</td><td>&quot;CA&quot;</td><td>&quot;M&quot;</td></tr><tr><td>601</td><td>2022</td><td>&quot;EN&quot;</td><td>&quot;FT&quot;</td><td>&quot;Data Analyst&quot;</td><td>52000</td><td>&quot;USD&quot;</td><td>52000</td><td>&quot;CA&quot;</td><td>0</td><td>&quot;CA&quot;</td><td>&quot;M&quot;</td></tr><tr><td>602</td><td>2022</td><td>&quot;SE&quot;</td><td>&quot;FT&quot;</td><td>&quot;Data Engineer&quot;</td><td>154000</td><td>&quot;USD&quot;</td><td>154000</td><td>&quot;US&quot;</td><td>100</td><td>&quot;US&quot;</td><td>&quot;M&quot;</td></tr><tr><td>603</td><td>2022</td><td>&quot;SE&quot;</td><td>&quot;FT&quot;</td><td>&quot;Data Engineer&quot;</td><td>126000</td><td>&quot;USD&quot;</td><td>126000</td><td>&quot;US&quot;</td><td>100</td><td>&quot;US&quot;</td><td>&quot;M&quot;</td></tr><tr><td>604</td><td>2022</td><td>&quot;SE&quot;</td><td>&quot;FT&quot;</td><td>&quot;Data Analyst&quot;</td><td>129000</td><td>&quot;USD&quot;</td><td>129000</td><td>&quot;US&quot;</td><td>0</td><td>&quot;US&quot;</td><td>&quot;M&quot;</td></tr><tr><td>605</td><td>2022</td><td>&quot;SE&quot;</td><td>&quot;FT&quot;</td><td>&quot;Data Analyst&quot;</td><td>150000</td><td>&quot;USD&quot;</td><td>150000</td><td>&quot;US&quot;</td><td>100</td><td>&quot;US&quot;</td><td>&quot;M&quot;</td></tr><tr><td>606</td><td>2022</td><td>&quot;MI&quot;</td><td>&quot;FT&quot;</td><td>&quot;AI Scientist&quot;</td><td>200000</td><td>&quot;USD&quot;</td><td>200000</td><td>&quot;IN&quot;</td><td>100</td><td>&quot;US&quot;</td><td>&quot;L&quot;</td></tr></tbody></table></div>"
      ],
      "text/plain": [
       "shape: (607, 12)\n",
       "┌─────┬─────────┬────────────┬────────────┬───┬────────────┬────────────┬────────────┬────────────┐\n",
       "│     ┆ work_ye ┆ experience ┆ employment ┆ … ┆ employee_r ┆ remote_rat ┆ company_lo ┆ company_si │\n",
       "│ --- ┆ ar      ┆ _level     ┆ _type      ┆   ┆ esidence   ┆ io         ┆ cation     ┆ ze         │\n",
       "│ i64 ┆ ---     ┆ ---        ┆ ---        ┆   ┆ ---        ┆ ---        ┆ ---        ┆ ---        │\n",
       "│     ┆ i64     ┆ str        ┆ str        ┆   ┆ str        ┆ i64        ┆ str        ┆ str        │\n",
       "╞═════╪═════════╪════════════╪════════════╪═══╪════════════╪════════════╪════════════╪════════════╡\n",
       "│ 0   ┆ 2020    ┆ MI         ┆ FT         ┆ … ┆ DE         ┆ 0          ┆ DE         ┆ L          │\n",
       "│ 1   ┆ 2020    ┆ SE         ┆ FT         ┆ … ┆ JP         ┆ 0          ┆ JP         ┆ S          │\n",
       "│ 2   ┆ 2020    ┆ SE         ┆ FT         ┆ … ┆ GB         ┆ 50         ┆ GB         ┆ M          │\n",
       "│ 3   ┆ 2020    ┆ MI         ┆ FT         ┆ … ┆ HN         ┆ 0          ┆ HN         ┆ S          │\n",
       "│ …   ┆ …       ┆ …          ┆ …          ┆ … ┆ …          ┆ …          ┆ …          ┆ …          │\n",
       "│ 603 ┆ 2022    ┆ SE         ┆ FT         ┆ … ┆ US         ┆ 100        ┆ US         ┆ M          │\n",
       "│ 604 ┆ 2022    ┆ SE         ┆ FT         ┆ … ┆ US         ┆ 0          ┆ US         ┆ M          │\n",
       "│ 605 ┆ 2022    ┆ SE         ┆ FT         ┆ … ┆ US         ┆ 100        ┆ US         ┆ M          │\n",
       "│ 606 ┆ 2022    ┆ MI         ┆ FT         ┆ … ┆ IN         ┆ 100        ┆ US         ┆ L          │\n",
       "└─────┴─────────┴────────────┴────────────┴───┴────────────┴────────────┴────────────┴────────────┘"
      ]
     },
     "execution_count": 7,
     "metadata": {},
     "output_type": "execute_result"
    }
   ],
   "source": [
    "import polars as pl\n",
    "\n",
    "archivo = pl.read_csv('ds_salaries.csv')\n",
    "archivo\n",
    "\n",
    "### Parte a:\n",
    "\n",
    "\n",
    "\n"
   ]
  },
  {
   "cell_type": "code",
   "execution_count": 6,
   "id": "8843b9a0",
   "metadata": {},
   "outputs": [
    {
     "name": "stdout",
     "output_type": "stream",
     "text": [
      "Collecting polars\n",
      "  Downloading polars-0.18.6-cp38-abi3-win_amd64.whl (19.8 MB)\n",
      "Installing collected packages: polars\n",
      "Successfully installed polars-0.18.6\n"
     ]
    }
   ],
   "source": [
    "!pip install polars"
   ]
  },
  {
   "cell_type": "code",
   "execution_count": null,
   "id": "55ccbc89",
   "metadata": {},
   "outputs": [],
   "source": []
  }
 ],
 "metadata": {
  "kernelspec": {
   "display_name": "Python 3 (ipykernel)",
   "language": "python",
   "name": "python3"
  },
  "language_info": {
   "codemirror_mode": {
    "name": "ipython",
    "version": 3
   },
   "file_extension": ".py",
   "mimetype": "text/x-python",
   "name": "python",
   "nbconvert_exporter": "python",
   "pygments_lexer": "ipython3",
   "version": "3.9.12"
  }
 },
 "nbformat": 4,
 "nbformat_minor": 5
}
